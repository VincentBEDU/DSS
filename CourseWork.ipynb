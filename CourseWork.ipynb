{
 "cells": [
  {
   "cell_type": "markdown",
   "id": "3bfc54ba-afda-4136-946d-8afa05bb82eb",
   "metadata": {},
   "source": [
    "# Assessing the Impact of Building Attributes and Energy Efficiency Ratings on Housing Price Fluctuations in Reading"
   ]
  },
  {
   "cell_type": "markdown",
   "id": "a150cf3f-41dd-452c-8de6-0dee0ae8244f",
   "metadata": {},
   "source": [
    "## Introduction\n",
    "The housing market plays a significant role in every nation’s economy (Amin and Al-Din, 2018), as it is classified as a necessity for human existence per Maslow’s theory of needs. Changes in housing prices can have a major impact on individuals, communities, and the broader economic environment. Therefore, policymakers, real estate professionals, and homeowners must fully comprehend the numerous factors impacting these changes in the various geographical regions. In Reading, a thriving town in Berkshire, United Kingdom, the housing market undergoes fluctuating changes caused by several different factors such as location, property physical features, neighbourhood amenities, etc.  According to Zancanella et al., (2018), the physical characteristics of the buildings and their energy efficiency rating are important factors that constitute house prices. While several determinants of house price variation have been extensively studied, empirical examination of the impact of key building attributes such as legal interest and energy efficiency rating remains scarce in this study area. This research aims to bridge this gap by investigating how major building attributes and energy efficiency ratings influence housing price fluctuations in Reading, providing valuable insights into the dynamics of the local housing market.\n"
   ]
  },
  {
   "cell_type": "markdown",
   "id": "3137748f-7053-41d7-8ae0-9db25327881d",
   "metadata": {},
   "source": [
    "## Literature Review\n",
    "House prices are influenced by myriad factors, including micro and macroeconomic conditions, demographic trends, and housing supply and demand dynamics of the market segment (Abate and Anselin, 2016). Recent studies document how building attributes and energy efficiency ratings play a crucial role in determining housing prices (Zuo and Zhao, 2014; Zhang et al., 2017; Zancanella et al., 2018). Green building certification, which encompasses features such as sustainable construction materials and energy-efficient designs, has gained consideration for its positive impact on house prices (Huang, 2023). The study of Zhang et al., (2023), emphasized that energy-efficient homes tend to command higher prices in the housing market due to their lower utility costs and environmental benefits. However, the specific impact of green building rating on housing price fluctuations in Reading requires further exploration, as the dynamics of the local market may differ from broader market trends.\n",
    "Although most studies focused on traditional factors such as property location, features, and amenities in determining housing prices, the impact of legal interest structures, such as leasehold and freehold arrangements, remains relatively understudied. Legal interest influences property values by shaping ownership rights, maintenance responsibilities, and future development opportunities (Caesar et al, 2019). While several research explored broader determinants of housing price disparities, few have delved into the unique features of local housing markets and their correlation with building attributes and energy efficiency ratings. We therefore aim to address this gap by conducting a thorough analysis of the housing market in Reading, examining how essential building attributes like freehold/leasehold interests and energy efficiency ratings affect fluctuations in housing prices. Through an examination of these factors within the context of Reading's housing market, this research aims to contribute valuable insights for policymakers, professionals, and homeowners looking to comprehend and navigate the intricacies of the local housing market.\n"
   ]
  },
  {
   "cell_type": "markdown",
   "id": "c0149ef1-f5a6-4997-b0dc-e2bfe60a050e",
   "metadata": {},
   "source": [
    "## Research Question \r\n",
    "What is the impact of building attributes like freehold/leasehold interests and energy efficiency ratings on fluctuation in housing prices in Reading?\r\n"
   ]
  },
  {
   "cell_type": "markdown",
   "id": "b19e5e1c-707a-4815-97c5-9a1655f05a93",
   "metadata": {},
   "source": [
    "## Presentation of data \n",
    "The dataset used for this study was accessed on the UCL database via LondonDatastore. It was created and maintained by Bin Chi, Adam Dennett, Thomas Oleron-Evans, and Robin Morphet (all from UCL) for a non-commercial purpose. \n",
    "Find dataset (hpm la 2023.zip) **[here](https://data.london.gov.uk/dataset/house-price-per-square-metre-in-england-and-wales)**. The dataset on house prices per square meter was generated through complex address-based matching procedures, aligning information from the Land Registry's Price Paid Data (LR-PPD) with property size details sourced from the Domestic Energy Performance Certificates (EPC) data, which is publicly available through the Department for Levelling Up, Housing and Communities (DLUHC, previously known as MHCLG).\n",
    "\r\n"
   ]
  },
  {
   "cell_type": "markdown",
   "id": "e25197d6-e4c3-41ed-8fae-24d676df39ba",
   "metadata": {},
   "source": [
    "## Import Libraries"
   ]
  },
  {
   "cell_type": "code",
   "execution_count": 1,
   "id": "048131c1-f845-4d01-9101-6565ed6c1672",
   "metadata": {},
   "outputs": [],
   "source": [
    "#This tells python to draw the graphs \"inline\" - in the notebook\n",
    "%matplotlib inline  \n",
    "import matplotlib.pyplot as plt\n",
    "import statsmodels.api as sm\n",
    "from math import sqrt\n",
    "from numpy.random import seed\n",
    "from numpy.random import randn\n",
    "from numpy import mean\n",
    "from scipy.stats import sem\n",
    "import statistics \n",
    "import seaborn as sns\n",
    "from IPython.display import display, Math, Latex, display_latex\n",
    "import plotly.express as px\n",
    "import pylab\n",
    "import pandas as pd\n",
    "import numpy as np\n",
    "# make the plots (graphs) a little wider by default\n",
    "pylab.rcParams['figure.figsize'] = (10., 8.)\n",
    "sns.set(font_scale=1.5)\n",
    "sns.set_style(\"white\")\n"
   ]
  },
  {
   "cell_type": "markdown",
   "id": "f78e1a11-4ee4-446e-b6a5-617c7a89983d",
   "metadata": {},
   "source": [
    "## Loading Data"
   ]
  },
  {
   "cell_type": "code",
   "execution_count": 2,
   "id": "19fea74b-2463-487e-a75b-3537380c1d59",
   "metadata": {},
   "outputs": [
    {
     "name": "stdout",
     "output_type": "stream",
     "text": [
      "          priceper  year dateoftransfer propertytype duration     price  \\\n",
      "0      2876.543210  2015     2015-03-20            S        F  233000.0   \n",
      "1      2283.333333  2006     2006-08-23            S        F  184950.0   \n",
      "2      1728.333333  2003     2003-04-29            S        F  139995.0   \n",
      "3      1349.380015  1997     1997-06-06            D        F  185000.0   \n",
      "4      4609.589041  2016     2016-04-22            T        F  336500.0   \n",
      "...            ...   ...            ...          ...      ...       ...   \n",
      "69651  6583.333333  2017     2017-07-26            F        L  237000.0   \n",
      "69652  1077.922078  1998     1998-09-25            S        F   83000.0   \n",
      "69653  1157.754813  1998     1998-06-19            F        L   81000.0   \n",
      "69654   814.606742  1998     1998-01-28            T        F   72500.0   \n",
      "69655  2633.333333  2006     2006-07-24            S        F  395000.0   \n",
      "\n",
      "       postcode    lad21cd                           transactionid       id  \\\n",
      "0       RG2 8PP  E06000038  {34DF02F4-FBD5-456C-BEFF-EDD8570CD742}  3128986   \n",
      "1       RG2 8PP  E06000038  {7F4C58BB-4C61-4EAB-9DC6-BEEE98FC333D}  3128986   \n",
      "2       RG2 8PP  E06000038  {901ABCC0-D99C-4770-8469-8AED181699CE}  3128986   \n",
      "3       RG4 7XN  E06000038  {1CF75D98-FB32-459F-9C37-BF4ABDDDECDF}  3166832   \n",
      "4       RG4 5AY  E06000038  {369DFB15-5DCF-3A19-E050-A8C0620518C6}  3182247   \n",
      "...         ...        ...                                     ...      ...   \n",
      "69651   RG2 0PR  E06000038  {5F54B81C-B470-2B45-E053-6B04A8C01FB0}  3136977   \n",
      "69652  RG30 3BU  E06000038  {E5FB6620-546F-41F9-800B-B118F6A0C4CB}  3191494   \n",
      "69653   RG4 7AJ  E06000038  {3BBE9392-D90F-4119-BD2A-AC40606B05F9}  3155739   \n",
      "69654  RG30 1DH  E06000038  {A4AF886B-15F7-4CF6-8307-74B76FCE2FA6}  3147531   \n",
      "69655   RG4 8QN  E06000038  {893D2F40-5367-4E67-B2A2-EB67C6D8F9AF}  3185072   \n",
      "\n",
      "        tfarea  numberrooms  classt  CURRENT_ENERGY_EFFICIENCY  \\\n",
      "0       81.000          3.0      11                         51   \n",
      "1       81.000          3.0      11                         51   \n",
      "2       81.000          3.0      11                         51   \n",
      "3      137.100          8.0      12                         66   \n",
      "4       73.000          4.0      12                         66   \n",
      "...        ...          ...     ...                        ...   \n",
      "69651   36.000          NaN      11                         77   \n",
      "69652   77.000          4.0      11                         72   \n",
      "69653   69.963          3.0      12                         63   \n",
      "69654   89.000          5.0      11                         50   \n",
      "69655  150.000          7.0      11                         56   \n",
      "\n",
      "       POTENTIAL_ENERGY_EFFICIENCY           CONSTRUCTION_AGE_BAND  \n",
      "0                               80  England and Wales: before 1900  \n",
      "1                               80  England and Wales: before 1900  \n",
      "2                               80  England and Wales: before 1900  \n",
      "3                               73    England and Wales: 1996-2002  \n",
      "4                               87    England and Wales: 1900-1929  \n",
      "...                            ...                             ...  \n",
      "69651                           77                        NO DATA!  \n",
      "69652                           86    England and Wales: 1950-1966  \n",
      "69653                           72    England and Wales: 1967-1975  \n",
      "69654                           82    England and Wales: 1900-1929  \n",
      "69655                           79    England and Wales: 1930-1949  \n",
      "\n",
      "[69656 rows x 16 columns]\n"
     ]
    }
   ],
   "source": [
    "\n",
    "# Reading the CSV file from the github URL and handling parsing errors differently \n",
    "try:\n",
    "    df = pd.read_csv('https://github.com/VincentBEDU/DSS/raw/main/data/Reading_link_02122023.csv')\n",
    "    print(df)\n",
    "except pd.errors.ParserError as e:\n",
    "    print(\"Error parsing CSV:\", e)\n"
   ]
  },
  {
   "cell_type": "markdown",
   "id": "16a1818f-f474-4cdd-960d-8b5cd370d0d2",
   "metadata": {},
   "source": [
    "The information above shows that the dataset contains **69656** rows and **16** columns. It is necessary to look at the column names and what they represent. \n",
    "\n",
    "## Printing column names"
   ]
  },
  {
   "cell_type": "code",
   "execution_count": 8,
   "id": "48b2d203-b79a-4001-97b7-13be372c2f28",
   "metadata": {},
   "outputs": [
    {
     "data": {
      "text/plain": [
       "Index(['priceper', 'year', 'dateoftransfer', 'propertytype', 'duration',\n",
       "       'price', 'postcode', 'lad21cd', 'transactionid', 'id', 'tfarea',\n",
       "       'numberrooms', 'classt', 'CURRENT_ENERGY_EFFICIENCY',\n",
       "       'POTENTIAL_ENERGY_EFFICIENCY', 'CONSTRUCTION_AGE_BAND'],\n",
       "      dtype='object')"
      ]
     },
     "execution_count": 8,
     "metadata": {},
     "output_type": "execute_result"
    }
   ],
   "source": [
    "# prints column names\n",
    "df.columns"
   ]
  },
  {
   "cell_type": "markdown",
   "id": "5c0f2eb9-fdac-4d73-8fa2-3c20229e7433",
   "metadata": {},
   "source": [
    "## Column Names Interpretation \n",
    "\n",
    "| Column Name                  | Interpretation                  |\n",
    "|------------------------------|---------------------------------|\n",
    "| priceper                     | Price per square meter          |\n",
    "| year                         | Year of transaction             |\n",
    "| dateoftransfer               | Transfer date                   |\n",
    "| propertytype                 | Property type                   |\n",
    "| duration                     | Property tenure                 |\n",
    "| price                        | Price of property               |\n",
    "| postcode                     | Property postcode               |\n",
    "| lad21cd                      | 2021 Local authority code       |\n",
    "| transactionid                | Transaction identifier          |\n",
    "| id                           | Domestic EPCs Identifier        |\n",
    "| tfarea                       | Total floor area                |\n",
    "| numberrooms                  | Number of rooms                 |\n",
    "| classt                       | Class matching type             |\n",
    "| CURRENT_ENERGY_EFFICIENCY    | Current energy efficiency rating|\n",
    "| POTENTIAL_ENERGY_EFFICIENCY  | Potential energy efficiency     |\n",
    "| CONSTRUCTION_AGE_BAND        | Age band when part were built   |\n",
    "\n",
    "\n",
    "For property types, D = Detached, S = Semi-Detached, T = Terraced, F = Flats.\n",
    "\n",
    "For property tenure, F = Freehold and L = Leasehold"
   ]
  },
  {
   "cell_type": "markdown",
   "id": "265adbe5-7d82-4be0-bea6-3ce11735bad3",
   "metadata": {},
   "source": [
    "## Data Description "
   ]
  },
  {
   "cell_type": "code",
   "execution_count": 15,
   "id": "3338ceaa-ddab-49e4-82e2-2f7b93f9e66b",
   "metadata": {},
   "outputs": [
    {
     "data": {
      "text/html": [
       "<div>\n",
       "<style scoped>\n",
       "    .dataframe tbody tr th:only-of-type {\n",
       "        vertical-align: middle;\n",
       "    }\n",
       "\n",
       "    .dataframe tbody tr th {\n",
       "        vertical-align: top;\n",
       "    }\n",
       "\n",
       "    .dataframe thead th {\n",
       "        text-align: right;\n",
       "    }\n",
       "</style>\n",
       "<table border=\"1\" class=\"dataframe\">\n",
       "  <thead>\n",
       "    <tr style=\"text-align: right;\">\n",
       "      <th></th>\n",
       "      <th>count</th>\n",
       "      <th>mean</th>\n",
       "      <th>std</th>\n",
       "      <th>min</th>\n",
       "      <th>25%</th>\n",
       "      <th>50%</th>\n",
       "      <th>75%</th>\n",
       "      <th>max</th>\n",
       "    </tr>\n",
       "  </thead>\n",
       "  <tbody>\n",
       "    <tr>\n",
       "      <th>priceper</th>\n",
       "      <td>69649.0</td>\n",
       "      <td>2721.78</td>\n",
       "      <td>1368.41</td>\n",
       "      <td>8.0</td>\n",
       "      <td>1735.31</td>\n",
       "      <td>2619.05</td>\n",
       "      <td>3564.1</td>\n",
       "      <td>34029.04</td>\n",
       "    </tr>\n",
       "    <tr>\n",
       "      <th>year</th>\n",
       "      <td>69656.0</td>\n",
       "      <td>2008.35</td>\n",
       "      <td>8.04</td>\n",
       "      <td>1995.0</td>\n",
       "      <td>2001.00</td>\n",
       "      <td>2007.00</td>\n",
       "      <td>2015.0</td>\n",
       "      <td>2023.00</td>\n",
       "    </tr>\n",
       "    <tr>\n",
       "      <th>price</th>\n",
       "      <td>69656.0</td>\n",
       "      <td>217018.39</td>\n",
       "      <td>144124.17</td>\n",
       "      <td>400.0</td>\n",
       "      <td>125000.00</td>\n",
       "      <td>185000.00</td>\n",
       "      <td>273000.0</td>\n",
       "      <td>3500000.00</td>\n",
       "    </tr>\n",
       "    <tr>\n",
       "      <th>id</th>\n",
       "      <td>69656.0</td>\n",
       "      <td>3162285.27</td>\n",
       "      <td>200365.70</td>\n",
       "      <td>3059586.0</td>\n",
       "      <td>3140804.25</td>\n",
       "      <td>3158094.00</td>\n",
       "      <td>3175483.0</td>\n",
       "      <td>21488281.00</td>\n",
       "    </tr>\n",
       "    <tr>\n",
       "      <th>tfarea</th>\n",
       "      <td>69656.0</td>\n",
       "      <td>81.66</td>\n",
       "      <td>36.40</td>\n",
       "      <td>0.0</td>\n",
       "      <td>60.01</td>\n",
       "      <td>75.00</td>\n",
       "      <td>93.0</td>\n",
       "      <td>1322.00</td>\n",
       "    </tr>\n",
       "    <tr>\n",
       "      <th>numberrooms</th>\n",
       "      <td>64717.0</td>\n",
       "      <td>4.28</td>\n",
       "      <td>1.70</td>\n",
       "      <td>0.0</td>\n",
       "      <td>3.00</td>\n",
       "      <td>4.00</td>\n",
       "      <td>5.0</td>\n",
       "      <td>83.00</td>\n",
       "    </tr>\n",
       "    <tr>\n",
       "      <th>classt</th>\n",
       "      <td>69656.0</td>\n",
       "      <td>11.28</td>\n",
       "      <td>0.45</td>\n",
       "      <td>11.0</td>\n",
       "      <td>11.00</td>\n",
       "      <td>11.00</td>\n",
       "      <td>12.0</td>\n",
       "      <td>12.00</td>\n",
       "    </tr>\n",
       "    <tr>\n",
       "      <th>CURRENT_ENERGY_EFFICIENCY</th>\n",
       "      <td>69656.0</td>\n",
       "      <td>63.55</td>\n",
       "      <td>12.58</td>\n",
       "      <td>1.0</td>\n",
       "      <td>57.00</td>\n",
       "      <td>64.00</td>\n",
       "      <td>72.0</td>\n",
       "      <td>109.00</td>\n",
       "    </tr>\n",
       "    <tr>\n",
       "      <th>POTENTIAL_ENERGY_EFFICIENCY</th>\n",
       "      <td>69656.0</td>\n",
       "      <td>77.03</td>\n",
       "      <td>9.96</td>\n",
       "      <td>1.0</td>\n",
       "      <td>72.00</td>\n",
       "      <td>79.00</td>\n",
       "      <td>84.0</td>\n",
       "      <td>115.00</td>\n",
       "    </tr>\n",
       "  </tbody>\n",
       "</table>\n",
       "</div>"
      ],
      "text/plain": [
       "                               count        mean        std        min  \\\n",
       "priceper                     69649.0     2721.78    1368.41        8.0   \n",
       "year                         69656.0     2008.35       8.04     1995.0   \n",
       "price                        69656.0   217018.39  144124.17      400.0   \n",
       "id                           69656.0  3162285.27  200365.70  3059586.0   \n",
       "tfarea                       69656.0       81.66      36.40        0.0   \n",
       "numberrooms                  64717.0        4.28       1.70        0.0   \n",
       "classt                       69656.0       11.28       0.45       11.0   \n",
       "CURRENT_ENERGY_EFFICIENCY    69656.0       63.55      12.58        1.0   \n",
       "POTENTIAL_ENERGY_EFFICIENCY  69656.0       77.03       9.96        1.0   \n",
       "\n",
       "                                    25%         50%        75%          max  \n",
       "priceper                        1735.31     2619.05     3564.1     34029.04  \n",
       "year                            2001.00     2007.00     2015.0      2023.00  \n",
       "price                         125000.00   185000.00   273000.0   3500000.00  \n",
       "id                           3140804.25  3158094.00  3175483.0  21488281.00  \n",
       "tfarea                            60.01       75.00       93.0      1322.00  \n",
       "numberrooms                        3.00        4.00        5.0        83.00  \n",
       "classt                            11.00       11.00       12.0        12.00  \n",
       "CURRENT_ENERGY_EFFICIENCY         57.00       64.00       72.0       109.00  \n",
       "POTENTIAL_ENERGY_EFFICIENCY       72.00       79.00       84.0       115.00  "
      ]
     },
     "execution_count": 15,
     "metadata": {},
     "output_type": "execute_result"
    }
   ],
   "source": [
    "\n",
    "# Replace inf and NaN values in the priceper column with np.nan\n",
    "df['priceper'] = df['priceper'].replace([np.inf, -np.inf], np.nan)\n",
    "\n",
    "summary=df.describe().round(2)  # generate summary statistics, and round everything to 2 decimal degrees\n",
    "summary=summary.T #.T transposes the table (rows become columns and vice versa)\n",
    "summary"
   ]
  },
  {
   "cell_type": "markdown",
   "id": "9776e1e9-8129-4a6e-9597-d0defe311ae6",
   "metadata": {},
   "source": [
    "The data description above shows a total sample size of **69,656** property price data. The average price per square meter and property price are **£2,722** and **£217,018** respectively at Reading. The endogenous or dependent variable for the analysis is the sale property (price). It has a standard deviation of **£144,124.17** demonstrating how property prices spread across Reading geographical regions. However, there exists a large gap between the minimum price of **£400.00** and the maximum of **£3,500,000.00**, which signals the existence of outliers in the dataset. Outliers have an impact on the average value, therefore, it will be examined and dealt with during the analysis.\r\n"
   ]
  },
  {
   "cell_type": "code",
   "execution_count": null,
   "id": "7b1484d1-88bf-4391-9b0c-1fda33771c5a",
   "metadata": {},
   "outputs": [],
   "source": []
  }
 ],
 "metadata": {
  "kernelspec": {
   "display_name": "Python 3 (ipykernel)",
   "language": "python",
   "name": "python3"
  },
  "language_info": {
   "codemirror_mode": {
    "name": "ipython",
    "version": 3
   },
   "file_extension": ".py",
   "mimetype": "text/x-python",
   "name": "python",
   "nbconvert_exporter": "python",
   "pygments_lexer": "ipython3",
   "version": "3.11.5"
  }
 },
 "nbformat": 4,
 "nbformat_minor": 5
}
